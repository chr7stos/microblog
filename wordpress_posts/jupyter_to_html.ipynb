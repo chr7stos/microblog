{
 "cells": [
  {
   "cell_type": "markdown",
   "metadata": {},
   "source": [
    "### What am I doing here?\n",
    "\n",
    "I have decided to use jupyter notebooks to present some things that I find useful. For the moment, I will stick to the wordpress blog platform, but I am in the progress of creating a website using __flask__ and put everything there.\n",
    "\n",
    "### Convert jupyter notebook to html\n",
    "\n",
    "In the terminal, go to the relevant folder and type:\n",
    "\n",
    "`jupyter nbconvert --to html --template basic jupyter_to_html.ipynb`   \n",
    "\n",
    "The `--template basic` is used to avoid including lots of CSS lines that would interfere with the wordpress's CSS. The page remains unresponsive for some time if I do not use this command.\n",
    "\n",
    "\n",
    "### Paste the generated html in wordpress \n",
    "\n",
    "Using the HTML interface, paste the generated jupyter_to_html.html code.\n",
    "\n",
    "### Adding CSS\n",
    "\n",
    "The disadvantage for not including CSS makes the use of jupyter notebooks pointless. \n",
    "In [prooffreaderplus](http://prooffreaderplus.blogspot.de/2014/11/how-to-quickly-turn-ipython-notebook.html), it describes how to use a CSS stylesheet to make the jupyter notebook look pretty:\n",
    "\n",
    "```\n",
    "<style type=\"text/css\">\n",
    ".highlight{background: #f8f8f8; overflow:auto;width:auto;border:solid gray;border-width:.1em .1em .1em .1em;padding:0em .5em;border-radius: 4px;}\n",
    ".k{color: #338822; font-weight: bold;}\n",
    ".kn{color: #338822; font-weight: bold;}\n",
    ".mi{color: #000000;}\n",
    ".o{color: #000000;}\n",
    ".ow{color: #BA22FF;  font-weight: bold;}\n",
    ".nb{color: #338822;}\n",
    ".n{color: #000000;}\n",
    ".s{color: #cc2222;}\n",
    ".se{color: #cc2222; font-weight: bold;}\n",
    ".si{color: #C06688; font-weight: bold;}\n",
    ".nn{color: #4D00FF; font-weight: bold;}\n",
    "</style>\n",
    "```\n",
    "\n",
    "I do not use this right now. \n",
    "\n",
    "### Notes\n",
    "\n",
    "This first blog post only includes Markdown, and using jupyter notebooks to write in Markdown and then convert to html is really useful.\n",
    "\n",
    "Have a look here at [github](https://github.com/jupyter/nbconvert) and [predictablynoisy](http://predictablynoisy.com/blogging-in-wordpress-with-ipython-jupyter-notebooks/) and [prooffreaderplus](http://prooffreaderplus.blogspot.de/2014/11/how-to-quickly-turn-ipython-notebook.html)"
   ]
  }
 ],
 "metadata": {
  "kernelspec": {
   "display_name": "Python 2",
   "language": "python",
   "name": "python2"
  },
  "language_info": {
   "codemirror_mode": {
    "name": "ipython",
    "version": 2
   },
   "file_extension": ".py",
   "mimetype": "text/x-python",
   "name": "python",
   "nbconvert_exporter": "python",
   "pygments_lexer": "ipython2",
   "version": "2.7.11"
  }
 },
 "nbformat": 4,
 "nbformat_minor": 0
}
